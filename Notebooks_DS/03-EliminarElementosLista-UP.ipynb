{
 "cells": [
  {
   "cell_type": "markdown",
   "id": "ef5d3c31",
   "metadata": {},
   "source": [
    "# Listas (arreglos dinámicos)\n",
    "\n",
    "**Curso:** Estructuras de Datos (Ingeniería de Sistemas)\n",
    "\n",
    "**Propósito:** Comprender y aplicar las ideas clave del tema, analizando complejidad y usos prácticos."
   ]
  },
  {
   "cell_type": "markdown",
   "id": "a072643a",
   "metadata": {},
   "source": [
    "### Objetivos de aprendizaje\n",
    "- Reconocer el modelo de datos y operaciones fundamentales.\n",
    "- Analizar la complejidad temporal y espacial de las operaciones clave.\n",
    "- Implementar y probar funciones en Python con casos de uso reales.\n",
    "- Comparar ventajas y limitaciones frente a alternativas.\n"
   ]
  },
  {
   "cell_type": "markdown",
   "id": "75d77f3d",
   "metadata": {},
   "source": [
    "### Teoría esencial\n",
    "\n",
    "Las listas en Python son contenedores ordenados y mutables. En estructuras de datos,\n",
    "representan arreglos dinámicos sobre un bloque contiguo de memoria con realocación amortizada.\n",
    "Operaciones típicas:\n",
    "- Acceso por índice: O(1)\n",
    "- Inserción/eliminación al final (append/pop): O(1) amortizado\n",
    "- Inserción/eliminación en posición arbitraria: O(n)\n",
    "- Búsqueda lineal: O(n)"
   ]
  },
  {
   "cell_type": "markdown",
   "id": "c793e43a",
   "metadata": {},
   "source": [
    "### Guía de estudio\n",
    "- Identifica operaciones fundamentales y su costo asintótico.\n",
    "- Observa invariante(s) de la estructura (lo que siempre debe cumplirse).\n",
    "- Relaciona la estructura con patrones de uso en software (colas de trabajo, caches, planificadores, etc.)."
   ]
  },
  {
   "cell_type": "markdown",
   "id": "776bdfd3",
   "metadata": {},
   "source": [
    "### Implementación base (desde el archivo `.py`)\n",
    "El siguiente bloque contiene el código original."
   ]
  },
  {
   "cell_type": "code",
   "execution_count": 1,
   "id": "3c5a9678",
   "metadata": {},
   "outputs": [
    {
     "name": "stdout",
     "output_type": "stream",
     "text": [
      "*** Manejo de Listas ***\n",
      "[1, 2, 3, 4, 5] -> Lista original\n",
      "Largo de la lista: 5\n",
      "Accedemos al valor del indice 4: 5\n",
      "Accedemos al valor del indice -1: 5\n",
      "Modificamos el valor del indice 1: 10\n",
      "[1, 10, 3, 4, 5, 6] -> Se agregó el elemento 6\n",
      "[1, 10, 15, 3, 4, 5, 6] -> Se añadió el valor de 15 en el índice 2\n",
      "[1, 10, 15, 3, 4, 6] -> Se removió el valor 5\n",
      "[1, 15, 3, 4, 6] -> Se eliminó el índice 1\n",
      "[1, 15, 4, 6] -> Se eliminó el índice 2\n",
      "Sublista [1:3]: [15, 4]\n"
     ]
    }
   ],
   "source": [
    "print('*** Manejo de Listas ***')\n",
    "\n",
    "mi_lista = [1, 2, 3, 4, 5]\n",
    "print(f'{mi_lista} -> Lista original')\n",
    "\n",
    "# Largo de una lista\n",
    "print(f'Largo de la lista: {len(mi_lista)}')\n",
    "\n",
    "# Acceder a los elementos de la lista por indice\n",
    "print(f'Accedemos al valor del indice 4: {mi_lista[4]}')\n",
    "print(f'Accedemos al valor del indice -1: {mi_lista[-1]}')\n",
    "\n",
    "# Modificar los elementos de una lista\n",
    "mi_lista[1] = 10\n",
    "print(f'Modificamos el valor del indice 1: {mi_lista[1]}')\n",
    "\n",
    "# Agregar un nuevo elemento al final de la lista\n",
    "mi_lista.append(6)\n",
    "print(f'{mi_lista} -> Se agregó el elemento 6')\n",
    "\n",
    "# Añadir un nuevo elemento en un indice especifico\n",
    "mi_lista.insert(2, 15)\n",
    "print(f'{mi_lista} -> Se añadió el valor de 15 en el índice 2')\n",
    "\n",
    "# Eliminar elementos de una lista\n",
    "# usando el metodo remove\n",
    "mi_lista.remove(5)\n",
    "print(f'{mi_lista} -> Se removió el valor 5')\n",
    "# Removemos por indice con el metodo pop\n",
    "mi_lista.pop(1) # Remueve el elemento del indice 1\n",
    "print(f'{mi_lista} -> Se eliminó el índice 1')\n",
    "# Eliminar usando la palabra del\n",
    "del mi_lista[2]\n",
    "print(f'{mi_lista} -> Se eliminó el índice 2')\n",
    "\n",
    "# Obtener sublistas\n",
    "sublista = mi_lista[1:3]  # genera una sublista del indice 1 al 2 (3 no se incluye)\n",
    "print(f'Sublista [1:3]: {sublista}')"
   ]
  },
  {
   "cell_type": "markdown",
   "id": "8bc9588b",
   "metadata": {},
   "source": [
    "### Pruebas rápidas\n",
    "Usa estos ejemplos para verificar comportamientos básicos. Ajusta según tus funciones."
   ]
  },
  {
   "cell_type": "code",
   "execution_count": null,
   "id": "494100c7",
   "metadata": {},
   "outputs": [],
   "source": [
    "# Agrega aquí tus pruebas unitarias"
   ]
  },
  {
   "cell_type": "markdown",
   "id": "5a9c12d9",
   "metadata": {},
   "source": [
    "### Complejidad (análisis informal)\n",
    "Completa esta tabla de forma crítica, justificando cada costo.\n",
    "\n",
    "| Operación | Mejor caso | Promedio | Peor caso | Nota |\n",
    "|---|---|---|---|---|\n",
    "| op1 | O( ) | O( ) | O( ) |  |\n",
    "| op2 | O( ) | O( ) | O( ) |  |\n",
    "| op3 | O( ) | O( ) | O( ) |  |"
   ]
  },
  {
   "cell_type": "markdown",
   "id": "ecd268db",
   "metadata": {},
   "source": [
    "### Ejercicios propuestos\n",
    "1. Implementa pruebas unitarias con `pytest` para al menos 5 funciones/operaciones.\n",
    "2. Mide empíricamente tiempos (con `timeit`) al variar n, y compara con el análisis teórico.\n",
    "3. Extiende la implementación para cubrir un caso límite (overflow, colisión, degeneración, etc.).\n",
    "4. Escribe una breve reflexión: ¿en qué contextos reales usarías esta estructura sobre sus alternativas?"
   ]
  },
  {
   "cell_type": "code",
   "execution_count": null,
   "id": "b98500d6",
   "metadata": {},
   "outputs": [],
   "source": [
    "def eliminar_por_valor(lista, valor):\n",
    "    lista.remove(valor)\n",
    "    print(\"Lista después de eliminar valor:\", lista)\n",
    "    return lista\n",
    "\n",
    "def eliminar_por_indice(lista, indice):\n",
    "    lista.pop(indice)\n",
    "    print(\"Lista después de eliminar índice:\", lista)\n",
    "    return lista\n",
    "\n",
    "def eliminar_ultimo(lista):\n",
    "    lista.pop()\n",
    "    print(\"Lista después de eliminar último:\", lista)\n",
    "    return lista\n",
    "\n",
    "def limpiar_lista(lista):\n",
    "    lista.clear()\n",
    "    print(\"Lista vacía:\", lista)\n",
    "    return lista\n",
    "\n",
    "def eliminar_todos(lista, valor):\n",
    "    lista = [x for x in lista if x != valor]\n",
    "    print(\"Lista después de eliminar todos los\", valor, \":\", lista)\n",
    "    return lista"
   ]
  },
  {
   "cell_type": "code",
   "execution_count": null,
   "id": "432f1882",
   "metadata": {},
   "outputs": [
    {
     "ename": "NameError",
     "evalue": "name 'timeit' is not defined",
     "output_type": "error",
     "traceback": [
      "\u001b[31m---------------------------------------------------------------------------\u001b[39m",
      "\u001b[31mNameError\u001b[39m                                 Traceback (most recent call last)",
      "\u001b[36mCell\u001b[39m\u001b[36m \u001b[39m\u001b[32mIn[1]\u001b[39m\u001b[32m, line 3\u001b[39m\n\u001b[32m      1\u001b[39m \u001b[38;5;28;01mfor\u001b[39;00m n \u001b[38;5;129;01min\u001b[39;00m [\u001b[32m10\u001b[39m, \u001b[32m1000\u001b[39m, \u001b[32m100000\u001b[39m]:\n\u001b[32m      2\u001b[39m     lista = \u001b[38;5;28mlist\u001b[39m(\u001b[38;5;28mrange\u001b[39m(n))\n\u001b[32m----> \u001b[39m\u001b[32m3\u001b[39m     t = \u001b[43mtimeit\u001b[49m.timeit(\u001b[38;5;28;01mlambda\u001b[39;00m: eliminar_por_indice(lista.copy(), \u001b[32m0\u001b[39m), number=\u001b[32m100\u001b[39m)\n\u001b[32m      4\u001b[39m     \u001b[38;5;28mprint\u001b[39m(\u001b[33mf\u001b[39m\u001b[33m\"\u001b[39m\u001b[33mTiempo al eliminar en lista de \u001b[39m\u001b[38;5;132;01m{\u001b[39;00mn\u001b[38;5;132;01m}\u001b[39;00m\u001b[33m: \u001b[39m\u001b[38;5;132;01m{\u001b[39;00mt\u001b[38;5;132;01m:\u001b[39;00m\u001b[33m.6f\u001b[39m\u001b[38;5;132;01m}\u001b[39;00m\u001b[33ms\u001b[39m\u001b[33m\"\u001b[39m)\n",
      "\u001b[31mNameError\u001b[39m: name 'timeit' is not defined"
     ]
    }
   ],
   "source": [
    "import timeit\n",
    "\n",
    "def eliminar_por_indice(lista, indice):\n",
    "    lista.pop(indice)\n",
    "    print(\"Lista después de eliminar índice:\", lista)\n",
    "    return lista\n",
    "\n",
    "for n in [10, 1000, 100000]:\n",
    "    lista = list(range(n))\n",
    "    t = timeit.timeit(lambda: eliminar_por_indice(lista.copy(), 0), number=100)\n",
    "    print(f\"Tiempo al eliminar en lista de {n}: {t:.6f}s\")"
   ]
  },
  {
   "cell_type": "code",
   "execution_count": null,
   "id": "06bbed92",
   "metadata": {},
   "outputs": [],
   "source": [
    "try:\n",
    "    lista = [0]*(10**7)\n",
    "    for _ in range(10**6):\n",
    "        lista.pop()\n",
    "    print(\"Caso límite OK, tamaño:\", len(lista))\n",
    "except MemoryError:\n",
    "    print(\"Error: sin memoria al eliminar elementos\")\n"
   ]
  },
  {
   "cell_type": "code",
   "execution_count": null,
   "id": "5e57e147",
   "metadata": {},
   "outputs": [],
   "source": [
    "print(\"Eliminar elementos en listas es útil para limpiar o modificar datos.\\nSin embargo, eliminar muchos valores en listas grandes puede ser lento.Para grandes volúmenes de datos, estructuras como deque o numpy son más eficientes.\")"
   ]
  },
  {
   "cell_type": "markdown",
   "id": "07d12bb9",
   "metadata": {},
   "source": [
    "### Referencias rápidas\n",
    "- Cormen, Leiserson, Rivest, Stein. *Introduction to Algorithms* (CLRS).\n",
    "- Sedgewick & Wayne. *Algorithms*.\n",
    "- Documentación oficial de Python: `collections`, `heapq`, `bisect`, `array`."
   ]
  },
  {
   "cell_type": "markdown",
   "id": "7b3f5254",
   "metadata": {},
   "source": [
    "*Fuente de código:* `03-EliminarElementosLista-UP.py`  — Generado automáticamente el 2025-09-08 22:41."
   ]
  }
 ],
 "metadata": {
  "kernelspec": {
   "display_name": "Python 3",
   "language": "python",
   "name": "python3"
  },
  "language_info": {
   "codemirror_mode": {
    "name": "ipython",
    "version": 3
   },
   "file_extension": ".py",
   "mimetype": "text/x-python",
   "name": "python",
   "nbconvert_exporter": "python",
   "pygments_lexer": "ipython3",
   "version": "3.13.7"
  }
 },
 "nbformat": 4,
 "nbformat_minor": 5
}
